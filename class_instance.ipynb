{
 "cells": [
  {
   "cell_type": "markdown",
   "metadata": {},
   "source": [
    "## 1) 객체 지향 프로그래밍(Object Oriented Pragramming)\n",
    ": 프로그래밍에서 필요한 데이터를 추상화시켜 상태와 행위를 가진 객체로 만들고, 객체들 간의 상호작용을 통해 로직을 구성하는 프로그래밍 방법. 쉽게 말하면 데이터와 처리방법으로 프로그램을 구성하는 것이 아닌, 다수의 \"객체\"를 만들어 이들 간의 서로 상호작용을 통해 프로그램을 만드는 방식\n",
    "\n",
    "*객체 = 데이터의 분산을 막기 위해 데이터와 기능을 하나로 묶은 그룹\n",
    "\n",
    "    ex. FC온라인 게임\n",
    "\n",
    "     - 객체 : 구단주\n",
    "\n",
    "     - 데이터(속성) : 이름, 연령, 구단가치 등\n",
    "\n",
    "     - 기능(행동) :  login(), play_game(), sell_player() 등\n",
    "\n",
    "*추상화 = 클래스를 설계하는 것 = 공통의 속성이나 기능을 묶어 이름을 붙이는 것\n",
    "\n",
    "## 2) 클래스와 인스턴스\n",
    "\n",
    "### 클래스\n",
    "\n",
    "- 객체 지향 프로그래밍(OOP)에서 특정 객체(object)를 생성하기 위해 변수와 메소드를 정의하는 일종의 틀\n",
    "- 객체를 정의하고 만들기 위한 변수와 메서드의 집합\n",
    "\n",
    "​\n",
    "\n",
    "### 인스턴스\n",
    "- 인스턴스는 클래스를 통해 생성된 객체\n",
    "- 클래스가 설계도라면 인스턴스는 설계도를 바탕으로 만들어진 실체\n",
    "- 클래스를 사용하여 인스턴스를 생성하면 클래스의 속성과 동작이 각 인스턴스에 적용\n",
    "\n",
    "​\n",
    "\n",
    "*속성\n",
    "클래스에서 선언된 변수, 인스턴스 속성 저장\n",
    "\n",
    "*메소드\n",
    "- 클래스 내에 구현된 함수, 인스턴스 기능 지정\n",
    "- 일반 함수와 기능적으로 동일\n",
    "- 파이썬 메서드의 첫 번째 매개변수 이름은 관례적으로 self를 사용(객체를 호출할 때 호출한 자신이 전달되기 때문)\\\n",
    "\n",
    "*예시\n",
    "- 와플 만드는 기계 (클래스) / 만들어진 와플(인스턴스)\n",
    "- 차량 설계도(클래스) / 만들어진 차(인스턴스) / 차 스펙(속성) / 차 시동 걸기(메소드)\n",
    "- 유저 설계도(클래스) / 만들어진 유저(인스턴스) / 사람의 나이, 신체 정보, 성별 등(속성) / 사람의 행동(메소드)"
   ]
  },
  {
   "cell_type": "code",
   "execution_count": 1,
   "metadata": {},
   "outputs": [
    {
     "name": "stdout",
     "output_type": "stream",
     "text": [
      "bb@aa.com\n",
      "반갑습니다. 저는 해리문입니다.\n",
      "반갑습니다. 저는 해리문입니다.\n"
     ]
    }
   ],
   "source": [
    "#클래스 정의\n",
    "class User:\n",
    "    #메소드 정의\n",
    "    def introduce(user):\n",
    "        print(f\"반갑습니다. 저는 {user.name}입니다.\")\n",
    "\n",
    "#인스턴스 생성\n",
    "user1 = User()\n",
    "user2 = User()\n",
    "\n",
    "#인스턴스별 속성 추가\n",
    "user1.name = '해리문'\n",
    "user2.name = '샐리권'\n",
    "\n",
    "user1.email = 'aa@aa.com'\n",
    "user2.email = 'bb@aa.com'\n",
    "\n",
    "#실행\n",
    "print(user2.email)\n",
    "User.introduce(user1)\n",
    "user1.introduce() #인스턴스가 메소드의 첫번째 argument(함수의 인자)로 자동으로 전달됨\n",
    "\n",
    "#결과\n",
    "# bb@aa.com\n",
    "# 반갑습니다. 저는 해리문입니다.\n",
    "# 반갑습니다. 저는 해리문입니다."
   ]
  },
  {
   "cell_type": "markdown",
   "metadata": {},
   "source": [
    "## 3) 정적 메소드(Static Method)\n",
    "### 정의\n",
    "- 자기 자신(클래스 or 인스턴스)을 인자로 전달하지 않고 오직 명시적으로 전달 받은 인자만을 가지고 행동을 취하는 함수 - 클래스 밖의 함수와 별 차이가 없다.\n",
    "- 클래스를 통해 직접 접근할 수 있는 메소드\n",
    "\n",
    "### 특성\n",
    "- 인스턴스 메소드와 달리 인스턴스 변수가 필요 없으므로 객체를 생성하지 않고도 호출할 수 있다.\n",
    "- 정적 메소드는 인스턴스/클래스 메소드와 달리 첫번째 변수가 자동으로 할당되지 않는다.\n",
    "- 따라서, 정적 메소드 내에서는 인스턴스/클래스 속성에 접근하거나 인스턴스/클래스 메소드 호출 불가\n",
    "- 인스턴스 멤버와 관련되지 않은 작업을 한다.\n",
    "- class안에 비슷한 류의 함수를 모아두고 싶을 때 / class 실행을 도와주는 유용한 유틸 기능 구현한 경우 사용\n",
    "\n",
    "​\n",
    "\n",
    "### 선언 및 호출\n",
    "선언 : @staticmethod 데코레이터 작성하여 선언\n",
    "*데코레이터 : 함수/메서드의 기능을 확장하거나 변경해주는 특별한 문법(함수를 입력 받아 함수를 반환)\n",
    "\n",
    "호출 : 인스턴스와 클래스 아무거나 사용해서 호출 가능\n",
    "- 클래스명.static메소드명() - 일반적으로 클래스명을 통해 호츌\n",
    "- 인스턴스명.static메소드명()\n",
    "- static 메소드는 인스턴스 변수를 호출할 수 없지만 인스턴스 메소드는 static 변수를 호출할 수 있다.\n",
    "- static 메소드는 인스턴스 메소드를 호출할 수 없지만 인스턴스 메소드는 static 메소드를 호출할 수 있다.\n",
    "- static메소드끼리는 호출 가능"
   ]
  },
  {
   "cell_type": "code",
   "execution_count": 2,
   "metadata": {},
   "outputs": [
    {
     "name": "stdout",
     "output_type": "stream",
     "text": [
      "20\n"
     ]
    }
   ],
   "source": [
    "#예시\n",
    "class hello:\n",
    "    num = 10\n",
    "\n",
    "    @staticmethod\n",
    "    def calc(x):\n",
    "        return x + 10\n",
    "\n",
    "print(hello.calc(10))\n",
    "#결과\n",
    "#20"
   ]
  }
 ],
 "metadata": {
  "kernelspec": {
   "display_name": "Python 3",
   "language": "python",
   "name": "python3"
  },
  "language_info": {
   "codemirror_mode": {
    "name": "ipython",
    "version": 3
   },
   "file_extension": ".py",
   "mimetype": "text/x-python",
   "name": "python",
   "nbconvert_exporter": "python",
   "pygments_lexer": "ipython3",
   "version": "3.12.7"
  }
 },
 "nbformat": 4,
 "nbformat_minor": 2
}
